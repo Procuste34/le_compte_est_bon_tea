{
 "cells": [
  {
   "cell_type": "code",
   "execution_count": 2,
   "id": "971ebbfb-3d9d-46a9-beb3-5b52bdfeee7a",
   "metadata": {},
   "outputs": [],
   "source": [
    "class Pile:\n",
    "    def __init__(self):\n",
    "        self.data = []\n",
    "        \n",
    "    def est_vide(self):\n",
    "        return self.data == []\n",
    "    \n",
    "    def empile(self, x):\n",
    "        self.data.append(x)\n",
    "        \n",
    "    def depile(self):\n",
    "        if not self.est_vide():\n",
    "            return self.data.pop()\n",
    "        \n",
    "    def __repr__(self):\n",
    "        return str(self.data)"
   ]
  },
  {
   "cell_type": "code",
   "execution_count": null,
   "id": "4317c9f1-59f9-42d3-abda-db34d49b5e4b",
   "metadata": {},
   "outputs": [],
   "source": []
  },
  {
   "cell_type": "code",
   "execution_count": 9,
   "id": "7f44759f-3466-42ef-9a94-4268ab1163da",
   "metadata": {},
   "outputs": [],
   "source": [
    "#RPN = [1, 2, \"+\", 4, \"*\", 5, \"+\"]\n",
    "#RPN = [\"1\", \"5\", \"+\", \"9\", \"+\", \"7\", \"+\", \"4\", \"+\", \"1\", \"/\", \"6\", \"*\", \"/\"]\n",
    "RPN = [\"1\", \"5\", \"+\", \"4\", \"+\", \"1\", \"-\", \"6\", \"-\", \"9\", \"*\", \"7\", \"*\"]"
   ]
  },
  {
   "cell_type": "code",
   "execution_count": 10,
   "id": "041172c9-8d4f-4bdb-b491-4f690fcef032",
   "metadata": {},
   "outputs": [
    {
     "ename": "TypeError",
     "evalue": "unsupported operand type(s) for +: 'int' and 'NoneType'",
     "output_type": "error",
     "traceback": [
      "\u001b[0;31m---------------------------------------------------------------------------\u001b[0m",
      "\u001b[0;31mTypeError\u001b[0m                                 Traceback (most recent call last)",
      "Cell \u001b[0;32mIn [10], line 11\u001b[0m\n\u001b[1;32m      8\u001b[0m b \u001b[39m=\u001b[39m ma_pile\u001b[39m.\u001b[39mdepile()\n\u001b[1;32m     10\u001b[0m \u001b[39mif\u001b[39;00m RPN[i] \u001b[39m==\u001b[39m \u001b[39m\"\u001b[39m\u001b[39m+\u001b[39m\u001b[39m\"\u001b[39m:\n\u001b[0;32m---> 11\u001b[0m     c \u001b[39m=\u001b[39m a\u001b[39m+\u001b[39;49mb\n\u001b[1;32m     12\u001b[0m \u001b[39melif\u001b[39;00m RPN[i] \u001b[39m==\u001b[39m \u001b[39m\"\u001b[39m\u001b[39m*\u001b[39m\u001b[39m\"\u001b[39m:\n\u001b[1;32m     13\u001b[0m     c \u001b[39m=\u001b[39m a\u001b[39m*\u001b[39mb\n",
      "\u001b[0;31mTypeError\u001b[0m: unsupported operand type(s) for +: 'int' and 'NoneType'"
     ]
    }
   ],
   "source": [
    "ma_pile = Pile()\n",
    "\n",
    "for i in range(len(RPN)): \n",
    "    if type(RPN[i]) == int:\n",
    "        ma_pile.empile(RPN[i])\n",
    "    else:\n",
    "        a = ma_pile.depile()\n",
    "        b = ma_pile.depile()\n",
    "        \n",
    "        if RPN[i] == \"+\":\n",
    "            c = a+b\n",
    "        elif RPN[i] == \"*\":\n",
    "            c = a*b\n",
    "            \n",
    "        ma_pile.empile(c)"
   ]
  },
  {
   "cell_type": "code",
   "execution_count": 5,
   "id": "e93f4873-1b30-4a7e-bb4f-4656a6fedef4",
   "metadata": {},
   "outputs": [
    {
     "data": {
      "text/plain": [
       "[17]"
      ]
     },
     "execution_count": 5,
     "metadata": {},
     "output_type": "execute_result"
    }
   ],
   "source": [
    "ma_pile"
   ]
  },
  {
   "cell_type": "code",
   "execution_count": null,
   "id": "6b83a7b2-a516-45e2-b91a-b3f89f3298fe",
   "metadata": {},
   "outputs": [],
   "source": []
  },
  {
   "cell_type": "code",
   "execution_count": null,
   "id": "8dd2d5da-ed80-4ce4-8e25-2cbb9271a785",
   "metadata": {},
   "outputs": [],
   "source": []
  },
  {
   "cell_type": "code",
   "execution_count": 187,
   "id": "88714dde-29d2-4fd9-9809-91077358c100",
   "metadata": {},
   "outputs": [],
   "source": [
    "def RPN_valide(RPN):\n",
    "    if RPN==[]:\n",
    "        return True\n",
    "    \n",
    "    ma_pile = Pile()\n",
    "\n",
    "    for i in range(len(RPN)): \n",
    "        if type(RPN[i]) == int:\n",
    "            ma_pile.empile(RPN[i])\n",
    "        else:\n",
    "            a = ma_pile.depile()\n",
    "            b = ma_pile.depile()\n",
    "            \n",
    "            if b == None:\n",
    "                return False\n",
    "\n",
    "            if RPN[i] == \"+\":\n",
    "                c = a+b\n",
    "            elif RPN[i] == \"-\":\n",
    "                c = a-b\n",
    "            elif RPN[i] == \"*\":\n",
    "                c = a*b\n",
    "            elif RPN[i] == \"/\":\n",
    "                if b == 0:\n",
    "                    return False\n",
    "                c = a/b\n",
    "            else:\n",
    "                print(\"---------------- erreur ----------------\")\n",
    "\n",
    "            ma_pile.empile(c)\n",
    "            \n",
    "    return len(ma_pile.data)==1 or (len(ma_pile.data) == 2 and type(ma_pile.data[0]) == int and type(ma_pile.data[1]) == int)\n",
    "\n",
    "def RPN_evalue(RPN):\n",
    "    if not RPN_valide(RPN):\n",
    "        return\n",
    "    \n",
    "    ma_pile = Pile()\n",
    "\n",
    "    for i in range(len(RPN)): \n",
    "        if type(RPN[i]) == int:\n",
    "            ma_pile.empile(RPN[i])\n",
    "        else:\n",
    "            a = ma_pile.depile()\n",
    "            b = ma_pile.depile()\n",
    "            \n",
    "            if RPN[i] == \"+\":\n",
    "                c = a+b\n",
    "            elif RPN[i] == \"-\":\n",
    "                c = a-b\n",
    "            elif RPN[i] == \"*\":\n",
    "                c = a*b\n",
    "            elif RPN[i] == \"/\":\n",
    "                c = a/b\n",
    "            else:\n",
    "                print(\"------------ erreur ---------------\")\n",
    "\n",
    "            ma_pile.empile(c)\n",
    "    \n",
    "    if len(ma_pile.data)==1:\n",
    "        return ma_pile.data[0]\n",
    "    else:\n",
    "        return None"
   ]
  },
  {
   "cell_type": "code",
   "execution_count": 188,
   "id": "ee1659ca-e2ee-4cee-9c47-5e05d04347ed",
   "metadata": {},
   "outputs": [],
   "source": [
    "# +, -, *, /\n",
    "\n",
    "# 5 9 7 4 1 6 945\n",
    "#3 5 7 9 25 50 859"
   ]
  },
  {
   "cell_type": "code",
   "execution_count": 197,
   "id": "f585bfe6-0e63-4189-8fbd-e868437f1cb7",
   "metadata": {},
   "outputs": [],
   "source": [
    "RPN = []\n",
    "cartons_restants = [5, 9, 7, 4, 1, 6]\n",
    "a_predire = 945\n",
    "operateurs = [\"+\", \"-\", \"*\", \"/\"]\n",
    "\n",
    "best_diff = a_predire\n",
    "best_RPN = []\n",
    "\n",
    "def appel_rec(RPN, cartons_restants):\n",
    "    global best_diff, best_RPN\n",
    "    #tester la validité du RPN\n",
    "    \n",
    "    #print(RPN)\n",
    "    \n",
    "    if not RPN_valide(RPN):\n",
    "        return\n",
    "    \n",
    "    if RPN_evalue(RPN) is not None:\n",
    "        if RPN_evalue(RPN)-a_predire == 0:\n",
    "            best_diff = 0\n",
    "            best_RPN = RPN.copy()\n",
    "            return\n",
    "        \n",
    "        if abs(RPN_evalue(RPN)-a_predire) < best_diff:\n",
    "            best_diff = abs(RPN_evalue(RPN)-a_predire)\n",
    "            best_RPN = RPN.copy()\n",
    "    \n",
    "    for carton in cartons_restants:\n",
    "        RPN_boucle = RPN.copy()\n",
    "        RPN_boucle.append(carton)\n",
    "        appel_rec(RPN_boucle, [c for c in cartons_restants if c != carton])\n",
    "        \n",
    "    for op in operateurs:\n",
    "        #meme chose\n",
    "        RPN_boucle = RPN.copy()\n",
    "        RPN_boucle.append(op)\n",
    "        appel_rec(RPN_boucle, cartons_restants)"
   ]
  },
  {
   "cell_type": "code",
   "execution_count": 198,
   "id": "f98ff37e-c4c7-4363-b4e0-89b69842e700",
   "metadata": {},
   "outputs": [],
   "source": [
    "appel_rec(RPN, cartons_restants)"
   ]
  },
  {
   "cell_type": "code",
   "execution_count": 199,
   "id": "93f149a4-c3e7-4119-be6a-a62ce11802e4",
   "metadata": {},
   "outputs": [
    {
     "data": {
      "text/plain": [
       "([50, 5, '*', 25, '+', 9, '+', 3, '*', 7, '+'], 0)"
      ]
     },
     "execution_count": 199,
     "metadata": {},
     "output_type": "execute_result"
    }
   ],
   "source": [
    "best_RPN, best_diff"
   ]
  },
  {
   "cell_type": "code",
   "execution_count": null,
   "id": "38b3070d-86f5-4d37-8b87-4116590b7966",
   "metadata": {},
   "outputs": [],
   "source": []
  }
 ],
 "metadata": {
  "kernelspec": {
   "display_name": "Python 3.8.9 64-bit",
   "language": "python",
   "name": "python3"
  },
  "language_info": {
   "codemirror_mode": {
    "name": "ipython",
    "version": 3
   },
   "file_extension": ".py",
   "mimetype": "text/x-python",
   "name": "python",
   "nbconvert_exporter": "python",
   "pygments_lexer": "ipython3",
   "version": "3.8.9"
  },
  "vscode": {
   "interpreter": {
    "hash": "31f2aee4e71d21fbe5cf8b01ff0e069b9275f58929596ceb00d14d90e3e16cd6"
   }
  }
 },
 "nbformat": 4,
 "nbformat_minor": 5
}
